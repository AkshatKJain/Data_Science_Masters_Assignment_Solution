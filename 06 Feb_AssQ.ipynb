{
 "cells": [
  {
   "cell_type": "code",
   "execution_count": null,
   "id": "52e986bc-e429-465a-8ae9-7b23c413200f",
   "metadata": {},
   "outputs": [],
   "source": [
    "list1 = [1,2,3,4, [44,55,66, True], False, (34,56,78,89,34), {1,2,3,3,2,1}, {1:34, \"key2\": [55, 67, 78, 89], 4: (45, 22, 61, 34)}, [56, 'data science'], 'Machine Learning']"
   ]
  },
  {
   "cell_type": "code",
   "execution_count": 70,
   "id": "c3d60fa0-6e3d-49de-b124-64bf6d5a715d",
   "metadata": {},
   "outputs": [],
   "source": [
    "def fun(l):\n",
    "    list1 = []\n",
    "    for i in l:\n",
    "        if type(i) == list:\n",
    "            for j in range(len(i)):\n",
    "                if type(i[j]) == int:\n",
    "                    list1.append(i[j])\n",
    "        if type(i) == int:\n",
    "            list1.append(i)\n",
    "        if type(i) == tuple:\n",
    "            for j in range(len(i)):\n",
    "                if type(i[j]) == int:\n",
    "                    list1.append(i[j])\n",
    "        if type(i) == dict:\n",
    "            for j in i.keys():\n",
    "                if type(j) == int:\n",
    "                    list1.append(j)\n",
    "            for j in i.values():\n",
    "                if type(j) == int:\n",
    "                    list1.append(j)\n",
    "                if type(j) == list:\n",
    "                    for k in range(len(j)):\n",
    "                        if type(j[k]) == int:\n",
    "                            list1.append(j[k])\n",
    "                if type(j) == tuple:\n",
    "                    for k in range(len(j)):\n",
    "                        if type(j[k]) == int:\n",
    "                            list1.append(j[k])\n",
    "        if type(i) == set:\n",
    "            for j in i:\n",
    "                if type(j) == int:\n",
    "                    list1.append(j)\n",
    "    return list1\n",
    "    "
   ]
  },
  {
   "cell_type": "code",
   "execution_count": 75,
   "id": "d9e23955-ee5d-476a-945d-c28c7eb22a21",
   "metadata": {},
   "outputs": [
    {
     "name": "stdout",
     "output_type": "stream",
     "text": [
      "[1, 2, 3, 4, 44, 55, 66, 34, 56, 78, 89, 34, 1, 2, 3, 1, 4, 34, 55, 67, 78, 89, 45, 22, 61, 34, 56]\n"
     ]
    }
   ],
   "source": [
    "list2 = fun(list1) # flat list\n",
    "print(list2)"
   ]
  },
  {
   "cell_type": "code",
   "execution_count": 73,
   "id": "515191a2-974e-4d15-a50b-43b662446945",
   "metadata": {},
   "outputs": [],
   "source": [
    "from functools import reduce"
   ]
  },
  {
   "cell_type": "code",
   "execution_count": 77,
   "id": "62b09184-cc4c-4fc1-a7f0-19608b2f9512",
   "metadata": {},
   "outputs": [
    {
     "data": {
      "text/plain": [
       "4134711838987085478833841242112000"
      ]
     },
     "execution_count": 77,
     "metadata": {},
     "output_type": "execute_result"
    }
   ],
   "source": [
    "reduce(lambda x,y: x*y, list2)"
   ]
  },
  {
   "cell_type": "code",
   "execution_count": 120,
   "id": "83b97c21-fea9-4aac-ac20-1e7a681e0269",
   "metadata": {},
   "outputs": [],
   "source": [
    "def fun2(s):\n",
    "    s = s.lower()\n",
    "    string = \"\"\n",
    "    for i in s:\n",
    "        if i == ' ':\n",
    "            string = string + '$'\n",
    "        elif ord(i) <=122 and ord(i) >= 97:\n",
    "            string = string + chr(219 - ord(i))\n",
    "        else:\n",
    "            string = string + i\n",
    "    return string"
   ]
  },
  {
   "cell_type": "code",
   "execution_count": 121,
   "id": "e96f8266-38a1-416b-b566-29c58bb77125",
   "metadata": {},
   "outputs": [
    {
     "name": "stdout",
     "output_type": "stream",
     "text": [
      "r$dzmg$gl$yvxlnv$z$wzgz$hxrvmgrhg\n"
     ]
    }
   ],
   "source": [
    "str = fun2(\"I want to become a Data Scientist\")\n",
    "print(str)"
   ]
  }
 ],
 "metadata": {
  "kernelspec": {
   "display_name": "Python 3 (ipykernel)",
   "language": "python",
   "name": "python3"
  },
  "language_info": {
   "codemirror_mode": {
    "name": "ipython",
    "version": 3
   },
   "file_extension": ".py",
   "mimetype": "text/x-python",
   "name": "python",
   "nbconvert_exporter": "python",
   "pygments_lexer": "ipython3",
   "version": "3.10.8"
  }
 },
 "nbformat": 4,
 "nbformat_minor": 5
}
