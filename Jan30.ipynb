{
 "cells": [
  {
   "cell_type": "code",
   "execution_count": null,
   "id": "9686872c-9e4e-47f0-9f24-b40d1f787f65",
   "metadata": {},
   "outputs": [],
   "source": [
    "p = int(input(\"Enter the percentage\"))\n",
    "if p >= 90:\n",
    "    grade = \"A\"\n",
    "elif p > 80 and p <= 90:\n",
    "    grade = \"B\"\n",
    "elif p >= 60 and p <=80 :\n",
    "    grade = \"C\"\n",
    "elif p < 60:\n",
    "    grade = \"D\"    \n",
    "print(grade)"
   ]
  },
  {
   "cell_type": "code",
   "execution_count": null,
   "id": "b0f72358-7e0a-4e30-8614-1c8b101fdc5d",
   "metadata": {},
   "outputs": [],
   "source": [
    "cp = int(input(\"Enter the cost price of bike: \"))\n",
    "if cp > 100000 :\n",
    "    tax = 15\n",
    "elif cp > 50000 and p <= 100000:\n",
    "    tax = 10\n",
    "elif cp <= 50000:\n",
    "    tax = 5\n",
    "   \n",
    "print(\"You tax is: \", cp*(tax/100))"
   ]
  },
  {
   "cell_type": "code",
   "execution_count": null,
   "id": "2dba0ef4-c1d7-41a4-9d70-8f8dffffefc9",
   "metadata": {},
   "outputs": [],
   "source": [
    "city = input(\"Enter any city: \")\n",
    "\n",
    "if city == \"Delhi\":\n",
    "    monument = \"Red Fort\"\n",
    "elif city == \"Agra\":\n",
    "    monumnet = \"Taj Mahal\"\n",
    "elif monument = \"Jaipur\":\n",
    "    monument = \"Jal Mahal\"\n",
    "    \n",
    "print(\"Monument is \", monumnet)"
   ]
  },
  {
   "cell_type": "code",
   "execution_count": null,
   "id": "2974014f-a377-487b-a223-6c864b4a2033",
   "metadata": {},
   "outputs": [],
   "source": [
    "counter = 0;\n",
    "num = int(input(\"Enter any number: \"))\n",
    "while num >= 10 :\n",
    "    counter ++\n",
    "    num = num/3\n",
    "    \n",
    "print(counter)"
   ]
  },
  {
   "cell_type": "code",
   "execution_count": null,
   "id": "682eea14-4d1f-4ae0-8aae-b3b12d23c28b",
   "metadata": {},
   "outputs": [],
   "source": [
    "j =0\n",
    "k = 0\n",
    "i = 0\n",
    "while i <5:\n",
    "    while j <i:\n",
    "        while k <j:\n",
    "            print(\" * \")\n",
    "            i++;\n",
    "            j++;\n",
    "            k++;"
   ]
  },
  {
   "cell_type": "code",
   "execution_count": null,
   "id": "c8183a54-0b7f-4d7e-af60-cdb2df55476b",
   "metadata": {},
   "outputs": [],
   "source": [
    "i = 10\n",
    "while i >=0:\n",
    "    print(i)\n",
    "    i--;"
   ]
  },
  {
   "cell_type": "code",
   "execution_count": null,
   "id": "98309879-a7cf-479c-b732-b2afc63786a6",
   "metadata": {},
   "outputs": [],
   "source": []
  }
 ],
 "metadata": {
  "kernelspec": {
   "display_name": "Python 3 (ipykernel)",
   "language": "python",
   "name": "python3"
  },
  "language_info": {
   "codemirror_mode": {
    "name": "ipython",
    "version": 3
   },
   "file_extension": ".py",
   "mimetype": "text/x-python",
   "name": "python",
   "nbconvert_exporter": "python",
   "pygments_lexer": "ipython3",
   "version": "3.10.8"
  }
 },
 "nbformat": 4,
 "nbformat_minor": 5
}
