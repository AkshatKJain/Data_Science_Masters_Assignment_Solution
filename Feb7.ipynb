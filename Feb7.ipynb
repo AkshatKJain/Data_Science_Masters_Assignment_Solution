{
 "cells": [
  {
   "cell_type": "code",
   "execution_count": 2,
   "id": "9138db3e-3cc9-41e0-9bf3-64d5bbc4a9ae",
   "metadata": {},
   "outputs": [],
   "source": [
    "def fun(s):\n",
    "    counter_lowercase = 0\n",
    "    counter_uppercase = 0\n",
    "    counter_num = 0\n",
    "    counter_special = 0\n",
    "    \n",
    "    special = '[@_!#$%^&*()<>?/\\|}{~:]'\n",
    "    \n",
    "    for i in s:\n",
    "        if i.islower():\n",
    "            counter_lowercase += 1\n",
    "        if i.isupper():\n",
    "            counter_uppercase += 1\n",
    "        if i.isnumeric():\n",
    "            counter_num += 1\n",
    "        if i in special:\n",
    "            counter_special += 1\n",
    "    \n",
    "    if counter_lowercase >= 2 and counter_uppercase >= 2 and counter_num >= 1 and counter_special >= 3 and len(s) == 10:\n",
    "        return \"Valid Passwword\"\n",
    "    else:\n",
    "        return \"Invalid Password\"\n",
    "        "
   ]
  },
  {
   "cell_type": "code",
   "execution_count": 8,
   "id": "b38bb57b-d241-4e1c-a93f-3d0b8ae03a3d",
   "metadata": {},
   "outputs": [
    {
     "name": "stdout",
     "output_type": "stream",
     "text": [
      "Valid Passwword\n"
     ]
    }
   ],
   "source": [
    "print(fun(\"aBCd1@%^fg\"))"
   ]
  },
  {
   "cell_type": "code",
   "execution_count": 9,
   "id": "0661afd9-6221-466a-a86f-d868200c589a",
   "metadata": {},
   "outputs": [],
   "source": [
    "#Check if the string starts with a particular letter\n",
    "a = lambda x : True if x.startswith(\"b\") else False"
   ]
  },
  {
   "cell_type": "code",
   "execution_count": 13,
   "id": "36240f6b-3c67-4a5d-8141-c0d871212a9a",
   "metadata": {},
   "outputs": [
    {
     "name": "stdout",
     "output_type": "stream",
     "text": [
      "False\n",
      "True\n"
     ]
    }
   ],
   "source": [
    "print(a(\"PwSkills\"))\n",
    "print(a(\"bat\"))"
   ]
  },
  {
   "cell_type": "code",
   "execution_count": 14,
   "id": "37822d35-4773-4e6d-b61d-5d91029eb112",
   "metadata": {},
   "outputs": [],
   "source": [
    "#Check if the string is numeric\n",
    "b = lambda x : True if x.isnumeric() else False"
   ]
  },
  {
   "cell_type": "code",
   "execution_count": 16,
   "id": "ab61eb32-0663-4e85-a755-143d544fda25",
   "metadata": {},
   "outputs": [
    {
     "name": "stdout",
     "output_type": "stream",
     "text": [
      "True\n",
      "False\n"
     ]
    }
   ],
   "source": [
    "print(b(\"123\"))\n",
    "print(b(\"323abc\"))"
   ]
  },
  {
   "cell_type": "code",
   "execution_count": 18,
   "id": "280ad12c-fc47-42bf-80ad-c0d76c2eb64e",
   "metadata": {},
   "outputs": [
    {
     "name": "stdout",
     "output_type": "stream",
     "text": [
      "[('orange', 80), ('mango', 99), ('grapes', 1000)]\n"
     ]
    }
   ],
   "source": [
    "#Sort a list of tuples having fruit names and their quantity\n",
    "tup = [(\"mango\",99),(\"orange\",80),(\"grapes\",1000)]\n",
    "a = sorted(tup, key = lambda x: x[1])\n",
    "print(a)"
   ]
  },
  {
   "cell_type": "code",
   "execution_count": 39,
   "id": "70fd02d1-1a69-469e-b5b4-0bf9cd0e7a31",
   "metadata": {},
   "outputs": [
    {
     "data": {
      "text/plain": [
       "(1, 4, 9, 16, 25, 36, 49, 64, 81, 100)"
      ]
     },
     "execution_count": 39,
     "metadata": {},
     "output_type": "execute_result"
    }
   ],
   "source": [
    "#Find the squares of numbers from 1 to 10\n",
    "l = [i for i in range(1,11)]\n",
    "tuple(map(lambda x: x**2 , l))"
   ]
  },
  {
   "cell_type": "code",
   "execution_count": 40,
   "id": "396828cf-a37e-4b0f-946e-aabeb46454a3",
   "metadata": {},
   "outputs": [
    {
     "data": {
      "text/plain": [
       "(1.0,\n",
       " 1.2599210498948732,\n",
       " 1.4422495703074083,\n",
       " 1.5874010519681994,\n",
       " 1.7099759466766968,\n",
       " 1.8171205928321397,\n",
       " 1.912931182772389,\n",
       " 2.0,\n",
       " 2.080083823051904,\n",
       " 2.154434690031884)"
      ]
     },
     "execution_count": 40,
     "metadata": {},
     "output_type": "execute_result"
    }
   ],
   "source": [
    "#Find the cube root of numbers from 1 to 10 \n",
    "l1 = [i for i in range(1,11)]\n",
    "tuple(map(lambda x: x**(1/3) , l1))"
   ]
  },
  {
   "cell_type": "code",
   "execution_count": 41,
   "id": "f4737cc3-5584-4914-8523-df9ec64e8fd3",
   "metadata": {},
   "outputs": [
    {
     "name": "stdout",
     "output_type": "stream",
     "text": [
      "True\n",
      "False\n"
     ]
    }
   ],
   "source": [
    "#Check if a given number is even\n",
    "c = lambda x : True if x%2 == 0 else False\n",
    "print(c(4))\n",
    "print(c(5))"
   ]
  },
  {
   "cell_type": "code",
   "execution_count": 43,
   "id": "a647d08e-3049-41f0-9c63-515775d0cdee",
   "metadata": {},
   "outputs": [
    {
     "data": {
      "text/plain": [
       "(2, 4, 6, 8, 10)"
      ]
     },
     "execution_count": 43,
     "metadata": {},
     "output_type": "execute_result"
    }
   ],
   "source": [
    "#Filter odd numbers from the given list.\n",
    "l2 = [i for i in range(1,11)]\n",
    "tuple(filter(lambda x: x%2 == 0, l2))"
   ]
  },
  {
   "cell_type": "code",
   "execution_count": 45,
   "id": "e0c787e7-f046-4410-8ecc-55b732b4eed4",
   "metadata": {},
   "outputs": [
    {
     "name": "stdout",
     "output_type": "stream",
     "text": [
      "(1, 2, 3, 4, 5, 6, 0)\n",
      "(-1, -2, -3, -4, -5)\n"
     ]
    }
   ],
   "source": [
    "#Sort a list of integers into positive and negative integers lists\n",
    "l3 = [1,2,3,4,5,6,-1,-2,-3,-4,-5,0]\n",
    "print(tuple(filter(lambda x: x >= 0, l3)))\n",
    "print(tuple(filter(lambda x: x < 0, l3)))"
   ]
  },
  {
   "cell_type": "code",
   "execution_count": null,
   "id": "81a8ccc3-3391-4828-8128-333fea9cec6b",
   "metadata": {},
   "outputs": [],
   "source": []
  }
 ],
 "metadata": {
  "kernelspec": {
   "display_name": "Python 3 (ipykernel)",
   "language": "python",
   "name": "python3"
  },
  "language_info": {
   "codemirror_mode": {
    "name": "ipython",
    "version": 3
   },
   "file_extension": ".py",
   "mimetype": "text/x-python",
   "name": "python",
   "nbconvert_exporter": "python",
   "pygments_lexer": "ipython3",
   "version": "3.10.8"
  }
 },
 "nbformat": 4,
 "nbformat_minor": 5
}
