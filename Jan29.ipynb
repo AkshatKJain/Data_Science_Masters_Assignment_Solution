{
 "cells": [
  {
   "cell_type": "code",
   "execution_count": 1,
   "id": "7c0e71c9-63c9-4c13-b7c7-083e66c56ded",
   "metadata": {},
   "outputs": [],
   "source": [
    "#Q1 Guido van Rossum developed python programming language"
   ]
  },
  {
   "cell_type": "code",
   "execution_count": 2,
   "id": "fe1f6072-30af-42d3-a5a5-5efb2c25f4ec",
   "metadata": {},
   "outputs": [],
   "source": [
    "#q2 Python support object oriented and structured programming"
   ]
  },
  {
   "cell_type": "code",
   "execution_count": 3,
   "id": "2a28e790-a715-4f0c-8829-c81892a8015d",
   "metadata": {},
   "outputs": [],
   "source": [
    "#Q3 Yes python is a case sensitive language"
   ]
  },
  {
   "cell_type": "code",
   "execution_count": 4,
   "id": "13d64a70-f997-4fec-9463-72193c9b0574",
   "metadata": {},
   "outputs": [],
   "source": [
    "#Q4 Extension of python file is .py"
   ]
  },
  {
   "cell_type": "code",
   "execution_count": 5,
   "id": "db9766ff-96d9-4509-8b54-e11088d031f7",
   "metadata": {},
   "outputs": [],
   "source": [
    "#Q5 Python is an interpreted language"
   ]
  },
  {
   "cell_type": "code",
   "execution_count": 6,
   "id": "898f1dc4-d385-4059-980e-049dfeed8314",
   "metadata": {},
   "outputs": [],
   "source": [
    "#Q6 module, function and a class are a few blocks of code used to define in python"
   ]
  },
  {
   "cell_type": "code",
   "execution_count": 7,
   "id": "0e214448-e34f-43e1-87f6-04805cea5526",
   "metadata": {},
   "outputs": [],
   "source": [
    "#Q7 # is used for single line comment"
   ]
  },
  {
   "cell_type": "code",
   "execution_count": 8,
   "id": "31881c57-9ba2-4745-857b-4355dce7ce98",
   "metadata": {},
   "outputs": [],
   "source": [
    "#Q8 python_version()"
   ]
  },
  {
   "cell_type": "code",
   "execution_count": 9,
   "id": "32db9a88-a1f9-45a2-854e-138d92419770",
   "metadata": {},
   "outputs": [],
   "source": [
    "#Q9 __init__()"
   ]
  },
  {
   "cell_type": "code",
   "execution_count": 10,
   "id": "1dc46b79-6959-4762-ae6b-6d5a3fae6a75",
   "metadata": {},
   "outputs": [],
   "source": [
    "#Q10 pip stands for prefereed installer program"
   ]
  },
  {
   "cell_type": "code",
   "execution_count": 14,
   "id": "a0c2ae6c-0a88-4d41-b84f-533153b7d931",
   "metadata": {},
   "outputs": [],
   "source": [
    "# Q11 Some built in functions in python are-\n",
    "#     print()\n",
    "#     type()\n",
    "#     input()\n",
    "#     abs()\n",
    "#     max()"
   ]
  },
  {
   "cell_type": "code",
   "execution_count": 15,
   "id": "fd0e30a8-6436-449a-970c-0fbf42e7164c",
   "metadata": {},
   "outputs": [],
   "source": [
    "#Q12 79 characters is the maximum length of identifier"
   ]
  },
  {
   "cell_type": "code",
   "execution_count": 16,
   "id": "32c877c3-bf67-474e-894e-b4fe8806e69c",
   "metadata": {},
   "outputs": [],
   "source": [
    "#Q13 Python is an easy to learn language. it also has many libraries and a versatile use"
   ]
  },
  {
   "cell_type": "code",
   "execution_count": 17,
   "id": "625ee178-dd36-453f-a430-1f91907bef2d",
   "metadata": {},
   "outputs": [],
   "source": [
    "#Q14 Memory management in Python involves a private heap containing all Python objects and data structures"
   ]
  },
  {
   "cell_type": "code",
   "execution_count": 18,
   "id": "ae48fa53-cf60-4471-8d74-578430d964ba",
   "metadata": {},
   "outputs": [],
   "source": [
    "# #Q15 Right-clicking This PC and going to Properties.\n",
    "# Clicking on the Advanced system settings in the menu on the left.\n",
    "# Clicking on the Environment Variables button o​n the bottom right.\n",
    "# In the System variables section, selecting the Path variable and clicking on Edit.\n"
   ]
  },
  {
   "cell_type": "code",
   "execution_count": 19,
   "id": "c715b61d-2759-4462-956a-af4874a893de",
   "metadata": {},
   "outputs": [],
   "source": [
    "#Q16 yes indentation is very important in python"
   ]
  },
  {
   "cell_type": "code",
   "execution_count": null,
   "id": "c36e9443-a62c-42b9-abb0-3cd6351bd143",
   "metadata": {},
   "outputs": [],
   "source": []
  }
 ],
 "metadata": {
  "kernelspec": {
   "display_name": "Python 3 (ipykernel)",
   "language": "python",
   "name": "python3"
  },
  "language_info": {
   "codemirror_mode": {
    "name": "ipython",
    "version": 3
   },
   "file_extension": ".py",
   "mimetype": "text/x-python",
   "name": "python",
   "nbconvert_exporter": "python",
   "pygments_lexer": "ipython3",
   "version": "3.10.8"
  }
 },
 "nbformat": 4,
 "nbformat_minor": 5
}
